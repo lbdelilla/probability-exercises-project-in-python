{
 "cells": [
  {
   "cell_type": "markdown",
   "id": "a41f3622",
   "metadata": {},
   "source": [
    "# Ejercicios de probabilidad"
   ]
  },
  {
   "cell_type": "markdown",
   "id": "a6bdbd89",
   "metadata": {},
   "source": [
    "## Ejercicio 1 \n",
    "\n",
    "Dos dados se lanzan una vez y se observa el total obtenido. Usa una simulación para encontrar la probabilidad estimada de que la puntuación sea mayor a 7 o un número par. Una simulación es una repetición del mismo experimento multiples veces para observar su comportamiento:\n",
    "\n",
    "- Ejecuta el experimento 1000 veces (lanza 2 dados 1000 veces, y suma el número de ambos dados).\n",
    "- Lleva ua cuenta de los números y las veces que la suma fue mayor a 7 o un número par.\n",
    "- Divide el número del paso 2 entre el número de iteraciones(1000)."
   ]
  },
  {
   "cell_type": "code",
   "execution_count": 5,
   "id": "8939d892",
   "metadata": {},
   "outputs": [
    {
     "name": "stdout",
     "output_type": "stream",
     "text": [
      "The amount of times the dice give an even number or more than 7 is: 693, Probability = 69.3\n"
     ]
    }
   ],
   "source": [
    "# TODO\n",
    "import random \n",
    "\n",
    "POSSIBLE_RESULTS = [1,2,3,4,5,6]\n",
    "\n",
    "\n",
    "def roll_dice():\n",
    "    return random.choice(POSSIBLE_RESULTS)\n",
    "\n",
    "def simulations(n): \n",
    "    count_probability = 0 \n",
    "    \n",
    "    for _ in range(n):\n",
    "        first_dice = roll_dice()\n",
    "        second_dice = roll_dice()\n",
    "        result = first_dice + second_dice\n",
    "        if(result > 7 ) or (result % 2 == 0):\n",
    "            count_probability +=1 \n",
    "    \n",
    "    str_result = f\"\"\"The amount of times the dice give an even number or more than 7 is: {count_probability}, Probability = {(count_probability / n) * 100}\"\"\"\n",
    "\n",
    "    return str_result\n",
    "\n",
    "print(simulations(1000))"
   ]
  },
  {
   "cell_type": "markdown",
   "id": "55732bca",
   "metadata": {},
   "source": [
    "## Ejercicio 2\n",
    "\n",
    "Una caja contiene 10 bolas blancas, 20 bolas rojas y 30 bolas verdes. Si tomamos 5 bolas de la caja reemplazándolas (tomando una bola, anotando el color y luego regresandola a la caja). Queremos saber la probabilidad de:\n",
    "\n",
    "1. Tomar 3 blancas y 2 rojas.\n",
    "2. Toas todas del mismo color.\n",
    "\n",
    "Ejecuta el experimento 1000 veces y calcula las probabilidades que mencionadas."
   ]
  },
  {
   "cell_type": "code",
   "execution_count": 24,
   "id": "23244d20",
   "metadata": {},
   "outputs": [
    {
     "name": "stdout",
     "output_type": "stream",
     "text": [
      "{0: 'White', 1: 'White', 2: 'White', 3: 'White', 4: 'White', 5: 'White', 6: 'White', 7: 'White', 8: 'White', 9: 'White', 10: 'Red', 11: 'Red', 12: 'Red', 13: 'Red', 14: 'Red', 15: 'Red', 16: 'Red', 17: 'Red', 18: 'Red', 19: 'Red', 20: 'Red', 21: 'Red', 22: 'Red', 23: 'Red', 24: 'Red', 25: 'Red', 26: 'Red', 27: 'Red', 28: 'Red', 29: 'Red', 30: 'Green', 31: 'Green', 32: 'Green', 33: 'Green', 34: 'Green', 35: 'Green', 36: 'Green', 37: 'Green', 38: 'Green', 39: 'Green', 40: 'Green', 41: 'Green', 42: 'Green', 43: 'Green', 44: 'Green', 45: 'Green', 46: 'Green', 47: 'Green', 48: 'Green', 49: 'Green', 50: 'Green', 51: 'Green', 52: 'Green', 53: 'Green', 54: 'Green', 55: 'Green', 56: 'Green', 57: 'Green', 58: 'Green', 59: 'Green'}\n",
      "The amount of times there are 3 white balls and 2 red is: 8, Probability = 0.80 The amount of times the balls are the same color is: 32, Probability = 3.20\n"
     ]
    }
   ],
   "source": [
    "import random\n",
    "\n",
    "ball_box = {}\n",
    "\n",
    "# Create the box of balls\n",
    "for i in range(60):\n",
    "    if i < 10:\n",
    "        ball_box[i] = \"White\"\n",
    "    elif (i > 9) and (i < 30):\n",
    "        ball_box[i] = \"Red\"\n",
    "    else:\n",
    "        ball_box[i] = \"Green\"\n",
    "\n",
    "print(ball_box)\n",
    "            \n",
    "# TODO\n",
    "\n",
    "\n",
    "# 10 blancas \n",
    "# 20 rojas \n",
    "# 30 verdes\n",
    "\n",
    " # 1 Cuantas veces tengo que sacar bolas hasta que me toque 3 blancas y 2 rojas y todas del mismo color. \n",
    "\n",
    "## print(random.choice(ball_box))\n",
    "\n",
    "def random_ball():\n",
    "    return random.choice(ball_box)\n",
    "\n",
    "def simulation(n):\n",
    "    count_case_1 = 0   # Cantidad de veces que se consiguen 3 bolas blancas y 2 rojas \n",
    "    count_case_2 = 0   #   Idem para caso 2 \n",
    "\n",
    "    for _ in range(n):\n",
    "        red_balls = 0\n",
    "        white_balls = 0\n",
    "        green_balls = 0\n",
    "    \n",
    "        for _ in range(5): \n",
    "            ball_selection = random_ball()\n",
    "            if(ball_selection == \"Red\"):\n",
    "                red_balls += 1\n",
    "            elif(ball_selection == \"White\"):\n",
    "                white_balls += 1\n",
    "            else:\n",
    "                green_balls += 1\n",
    "    \n",
    "        if(white_balls == 3 and red_balls == 2):\n",
    "            count_case_1 += 1\n",
    "            \n",
    "        if(red_balls == 5 or white_balls == 5 or green_balls == 5):\n",
    "            count_case_2 += 1 \n",
    "\n",
    "\n",
    "    str_result = f\"\"\"The amount of times there are 3 white balls and 2 red is: {count_case_1}, Probability = {(count_case_1 / n) * 100:.2f} The amount of times the balls are the same color is: {count_case_2}, Probability = {(count_case_2 / n)* 100:.2f}\"\"\"\n",
    "\n",
    "    return str_result\n",
    "\n",
    "print(simulation(1000))"
   ]
  }
 ],
 "metadata": {
  "kernelspec": {
   "display_name": "Python 3",
   "language": "python",
   "name": "python3"
  },
  "language_info": {
   "codemirror_mode": {
    "name": "ipython",
    "version": 3
   },
   "file_extension": ".py",
   "mimetype": "text/x-python",
   "name": "python",
   "nbconvert_exporter": "python",
   "pygments_lexer": "ipython3",
   "version": "3.11.4"
  }
 },
 "nbformat": 4,
 "nbformat_minor": 5
}
